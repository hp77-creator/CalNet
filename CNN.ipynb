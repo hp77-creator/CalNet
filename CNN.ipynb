{
 "cells": [
  {
   "cell_type": "code",
   "execution_count": 2,
   "id": "c1fd93ed",
   "metadata": {},
   "outputs": [],
   "source": [
    "import numpy as np\n",
    "import pandas as pd\n",
    "%matplotlib inline\n",
    "\n",
    "import matplotlib as mpl\n",
    "import matplotlib.pyplot as plt\n",
    "from keras.callbacks import TensorBoard\n",
    "\n"
   ]
  },
  {
   "cell_type": "code",
   "execution_count": 3,
   "id": "c09d716c",
   "metadata": {},
   "outputs": [],
   "source": [
    "import tensorflow as tf\n",
    "from tensorflow import keras"
   ]
  },
  {
   "cell_type": "code",
   "execution_count": 21,
   "id": "7fc9430a",
   "metadata": {},
   "outputs": [],
   "source": [
    "#dataset has two csv files i.e test and train \n",
    "# x_train and x_test contain only pixels and y_train y_test contain lables\n",
    "fashion_mnist = keras.datasets.fashion_mnist\n",
    "(x_train, y_train), (x_test, y_test) = tf.keras.datasets.fashion_mnist.load_data()"
   ]
  },
  {
   "cell_type": "code",
   "execution_count": 35,
   "id": "4666fa32",
   "metadata": {},
   "outputs": [],
   "source": [
    "#adding lables\n",
    "class_names= [\"T-shirt/top\", \"Trouser\", \"Pullover\", \"Dress\", \"Coat\",\n",
    "\"Sandal\", \"Shirt\", \"Sneaker\", \"Bag\", \"Ankle boot\"]"
   ]
  },
  {
   "cell_type": "code",
   "execution_count": 23,
   "id": "a664e720",
   "metadata": {},
   "outputs": [],
   "source": [
    "#cnn would only work on 3d images whereas the dataset has only grayscale images so we would have to reshape them\n",
    "x_train=x_train.reshape((60000,28,28,1))\n",
    "x_test=x_test.reshape((10000,28,28,1))"
   ]
  },
  {
   "cell_type": "code",
   "execution_count": 24,
   "id": "9b582954",
   "metadata": {},
   "outputs": [],
   "source": [
    "# rbg channels have values from 0 to 255 so to scale down the values of pixels between 0 to 1 divide them with 255\n",
    "x_train_n=x_train/255\n",
    "x_test_n=x_test/255"
   ]
  },
  {
   "cell_type": "code",
   "execution_count": 25,
   "id": "7fe1981a",
   "metadata": {},
   "outputs": [],
   "source": [
    "# splitting x_train into x_valid and and x_train\n",
    "x_valid,x_train=x_train[:5000], x_train[5000:]\n",
    "y_valid,y_train=y_train[:5000], y_train[5000:]"
   ]
  },
  {
   "cell_type": "code",
   "execution_count": 31,
   "id": "3f36bb4a",
   "metadata": {},
   "outputs": [],
   "source": [
    "np.random.seed(42)\n",
    "tf.random.set_seed(42)"
   ]
  },
  {
   "cell_type": "code",
   "execution_count": 32,
   "id": "4730a570",
   "metadata": {},
   "outputs": [],
   "source": [
    "model=keras.models.Sequential()\n",
    "\n",
    "model.add(keras.layers.Conv2D(filters=32, kernel_size=(3,3),strides=1,padding=\"valid\",activation=\"relu\",input_shape=(28,28,1)))\n",
    "\n",
    "model.add(keras.layers.MaxPooling2D(2,2))\n",
    "model.add(keras.layers.Flatten())\n",
    "model.add(keras.layers.Dense(300,activation=\"relu\"))\n",
    "model.add(keras.layers.Dense(100,activation=\"relu\"))\n",
    "model.add(keras.layers.Dense(10,activation=\"softmax\"))"
   ]
  },
  {
   "cell_type": "code",
   "execution_count": 28,
   "id": "41fa2020",
   "metadata": {
    "scrolled": true
   },
   "outputs": [
    {
     "name": "stdout",
     "output_type": "stream",
     "text": [
      "Model: \"sequential_2\"\n",
      "_________________________________________________________________\n",
      "Layer (type)                 Output Shape              Param #   \n",
      "=================================================================\n",
      "conv2d_2 (Conv2D)            (None, 26, 26, 32)        320       \n",
      "_________________________________________________________________\n",
      "max_pooling2d_2 (MaxPooling2 (None, 13, 13, 32)        0         \n",
      "_________________________________________________________________\n",
      "flatten_2 (Flatten)          (None, 5408)              0         \n",
      "_________________________________________________________________\n",
      "dense_6 (Dense)              (None, 300)               1622700   \n",
      "_________________________________________________________________\n",
      "dense_7 (Dense)              (None, 100)               30100     \n",
      "_________________________________________________________________\n",
      "dense_8 (Dense)              (None, 10)                1010      \n",
      "=================================================================\n",
      "Total params: 1,654,130\n",
      "Trainable params: 1,654,130\n",
      "Non-trainable params: 0\n",
      "_________________________________________________________________\n"
     ]
    }
   ],
   "source": [
    "model.summary()\n"
   ]
  },
  {
   "cell_type": "code",
   "execution_count": 33,
   "id": "ac6dc3cd",
   "metadata": {},
   "outputs": [],
   "source": [
    "model.compile(loss=\"sparse_categorical_crossentropy\",optimizer=\"sgd\",metrics=[\"accuracy\"])\n"
   ]
  },
  {
   "cell_type": "code",
   "execution_count": 34,
   "id": "bb8c8ccc",
   "metadata": {},
   "outputs": [
    {
     "name": "stdout",
     "output_type": "stream",
     "text": [
      "Epoch 1/20\n",
      "860/860 [==============================] - 32s 37ms/step - loss: 5.4056 - accuracy: 0.6646 - val_loss: 0.6861 - val_accuracy: 0.7500\n",
      "Epoch 2/20\n",
      "860/860 [==============================] - 31s 36ms/step - loss: 0.4963 - accuracy: 0.8180 - val_loss: 0.4796 - val_accuracy: 0.8180\n",
      "Epoch 3/20\n",
      "860/860 [==============================] - 30s 35ms/step - loss: 0.4219 - accuracy: 0.8438 - val_loss: 0.7129 - val_accuracy: 0.7612\n",
      "Epoch 4/20\n",
      "860/860 [==============================] - 31s 36ms/step - loss: 0.3804 - accuracy: 0.8573 - val_loss: 0.3853 - val_accuracy: 0.8580\n",
      "Epoch 5/20\n",
      "860/860 [==============================] - 32s 37ms/step - loss: 0.3528 - accuracy: 0.8670 - val_loss: 0.3919 - val_accuracy: 0.8604\n",
      "Epoch 6/20\n",
      "860/860 [==============================] - 31s 37ms/step - loss: 0.3272 - accuracy: 0.8755 - val_loss: 0.3893 - val_accuracy: 0.8622\n",
      "Epoch 7/20\n",
      "860/860 [==============================] - 32s 38ms/step - loss: 0.3109 - accuracy: 0.8823 - val_loss: 0.3740 - val_accuracy: 0.8634\n",
      "Epoch 8/20\n",
      "860/860 [==============================] - 32s 37ms/step - loss: 0.2912 - accuracy: 0.8899 - val_loss: 0.4074 - val_accuracy: 0.8492\n",
      "Epoch 9/20\n",
      "860/860 [==============================] - 33s 38ms/step - loss: 0.2730 - accuracy: 0.8955 - val_loss: 0.3945 - val_accuracy: 0.8602\n",
      "Epoch 10/20\n",
      "860/860 [==============================] - 33s 38ms/step - loss: 0.2592 - accuracy: 0.9016 - val_loss: 0.4167 - val_accuracy: 0.8504\n",
      "Epoch 11/20\n",
      "860/860 [==============================] - 33s 39ms/step - loss: 0.2462 - accuracy: 0.9067 - val_loss: 0.3979 - val_accuracy: 0.8634\n",
      "Epoch 12/20\n",
      "860/860 [==============================] - 33s 39ms/step - loss: 0.2343 - accuracy: 0.9107 - val_loss: 0.4199 - val_accuracy: 0.8674\n",
      "Epoch 13/20\n",
      "860/860 [==============================] - 33s 38ms/step - loss: 0.2279 - accuracy: 0.9126 - val_loss: 0.4966 - val_accuracy: 0.8448\n",
      "Epoch 14/20\n",
      "860/860 [==============================] - 34s 39ms/step - loss: 0.2177 - accuracy: 0.9168 - val_loss: 0.5158 - val_accuracy: 0.8352\n",
      "Epoch 15/20\n",
      "860/860 [==============================] - 32s 37ms/step - loss: 0.2033 - accuracy: 0.9212 - val_loss: 0.4537 - val_accuracy: 0.8600\n",
      "Epoch 16/20\n",
      "860/860 [==============================] - 32s 38ms/step - loss: 0.1989 - accuracy: 0.9237 - val_loss: 0.4780 - val_accuracy: 0.8574\n",
      "Epoch 17/20\n",
      "860/860 [==============================] - 38s 44ms/step - loss: 0.1884 - accuracy: 0.9274 - val_loss: 0.5323 - val_accuracy: 0.8456\n",
      "Epoch 18/20\n",
      "860/860 [==============================] - 34s 39ms/step - loss: 0.1824 - accuracy: 0.9301 - val_loss: 0.4791 - val_accuracy: 0.8544\n",
      "Epoch 19/20\n",
      "860/860 [==============================] - 32s 37ms/step - loss: 0.1755 - accuracy: 0.9336 - val_loss: 0.4840 - val_accuracy: 0.8556\n",
      "Epoch 20/20\n",
      "860/860 [==============================] - 33s 38ms/step - loss: 0.1621 - accuracy: 0.9389 - val_loss: 0.5425 - val_accuracy: 0.8592\n"
     ]
    }
   ],
   "source": [
    "model_history=model.fit(x_train,y_train,epochs=20,batch_size=64,validation_data=(x_valid,y_valid))\n"
   ]
  },
  {
   "cell_type": "code",
   "execution_count": 36,
   "id": "e4387d4a",
   "metadata": {},
   "outputs": [
    {
     "data": {
      "image/png": "[encoded data removed]",
      "text/plain": [
       "<Figure size 576x360 with 1 Axes>"
      ]
     },
     "metadata": {
      "needs_background": "light"
     },
     "output_type": "display_data"
    }
   ],
   "source": [
    "import pandas as pd\n",
    "\n",
    "pd.DataFrame (model_history.history).plot(figsize=(8, 5))\n",
    "\n",
    "plt.grid (True)\n",
    "\n",
    "plt.gca().set_ylim(0, 1)\n",
    "\n",
    "plt.show()"
   ]
  },
  {
   "cell_type": "code",
   "execution_count": 37,
   "id": "cecd7ed9",
   "metadata": {},
   "outputs": [],
   "source": [
    "image = x_train_full[800,:].reshape((28,28))"
   ]
  },
  {
   "cell_type": "code",
   "execution_count": 108,
   "id": "e2e1ff3e",
   "metadata": {},
   "outputs": [
    {
     "data": {
      "text/plain": [
       "<function matplotlib.pyplot.show(close=None, block=None)>"
      ]
     },
     "execution_count": 108,
     "metadata": {},
     "output_type": "execute_result"
    },
    {
     "data": {
      "image/png": "[encoded data removed]",
      "text/plain": [
       "<Figure size 432x288 with 1 Axes>"
      ]
     },
     "metadata": {
      "needs_background": "light"
     },
     "output_type": "display_data"
    }
   ],
   "source": [
    "plt.imshow(image)\n",
    "plt.show"
   ]
  },
  {
   "cell_type": "code",
   "execution_count": 43,
   "id": "f8217d05",
   "metadata": {},
   "outputs": [
    {
     "name": "stdout",
     "output_type": "stream",
     "text": [
      "313/313 [==============================] - 2s 6ms/step - loss: 1.6403 - accuracy: 0.5110\n"
     ]
    }
   ],
   "source": [
    "ev = model.evaluate(x_test_n, y_test)\n"
   ]
  },
  {
   "cell_type": "code",
   "execution_count": 44,
   "id": "7a451c1a",
   "metadata": {},
   "outputs": [
    {
     "data": {
      "text/plain": [
       "[1.6403099298477173, 0.5109999775886536]"
      ]
     },
     "execution_count": 44,
     "metadata": {},
     "output_type": "execute_result"
    }
   ],
   "source": [
    "ev"
   ]
  },
  {
   "cell_type": "code",
   "execution_count": 48,
   "id": "fa9c890f",
   "metadata": {},
   "outputs": [],
   "source": [
    "x_new =x_test[:3]"
   ]
  },
  {
   "cell_type": "code",
   "execution_count": 49,
   "id": "a28ce5cd",
   "metadata": {},
   "outputs": [
    {
     "ename": "AttributeError",
     "evalue": "'Sequential' object has no attribute 'predict_classes'",
     "output_type": "error",
     "traceback": [
      "\u001b[1;31m---------------------------------------------------------------------------\u001b[0m",
      "\u001b[1;31mAttributeError\u001b[0m                            Traceback (most recent call last)",
      "\u001b[1;32m<ipython-input-49-81ace37e545f>\u001b[0m in \u001b[0;36m<module>\u001b[1;34m\u001b[0m\n\u001b[1;32m----> 1\u001b[1;33m \u001b[0my_pred\u001b[0m \u001b[1;33m=\u001b[0m \u001b[0mmodel\u001b[0m\u001b[1;33m.\u001b[0m\u001b[0mpredict_classes\u001b[0m\u001b[1;33m(\u001b[0m\u001b[0mX_new\u001b[0m\u001b[1;33m)\u001b[0m\u001b[1;33m\u001b[0m\u001b[1;33m\u001b[0m\u001b[0m\n\u001b[0m\u001b[0;32m      2\u001b[0m \u001b[0my_pred\u001b[0m\u001b[1;33m\u001b[0m\u001b[1;33m\u001b[0m\u001b[0m\n",
      "\u001b[1;31mAttributeError\u001b[0m: 'Sequential' object has no attribute 'predict_classes'"
     ]
    }
   ],
   "source": [
    "y_pred = model.predict_classes(X_new)\n",
    "y_pred"
   ]
  },
  {
   "cell_type": "code",
   "execution_count": 50,
   "id": "48a8ad17",
   "metadata": {},
   "outputs": [
    {
     "data": {
      "text/plain": [
       "array([9, 2, 1], dtype=uint8)"
      ]
     },
     "execution_count": 50,
     "metadata": {},
     "output_type": "execute_result"
    }
   ],
   "source": [
    "y_test[:3]"
   ]
  },
  {
   "cell_type": "code",
   "execution_count": 51,
   "id": "401e38d4",
   "metadata": {},
   "outputs": [
    {
     "name": "stdout",
     "output_type": "stream",
     "text": [
      "AxesImage(54,36;334.8x217.44)\n"
     ]
    },
    {
     "data": {
      "image/png": "[encoded data removed]",
      "text/plain": [
       "<Figure size 432x288 with 1 Axes>"
      ]
     },
     "metadata": {
      "needs_background": "light"
     },
     "output_type": "display_data"
    }
   ],
   "source": [
    "print (plt.imshow (x_test[4].reshape((28,28))))"
   ]
  },
  {
   "cell_type": "code",
   "execution_count": 115,
   "id": "5d39b7ec",
   "metadata": {},
   "outputs": [
    {
     "data": {
      "text/plain": [
       "<function keras.backend.clear_session()>"
      ]
     },
     "execution_count": 115,
     "metadata": {},
     "output_type": "execute_result"
    }
   ],
   "source": [
    "keras.backend.clear_session"
   ]
  },
  {
   "cell_type": "code",
   "execution_count": 116,
   "id": "2b8432d6",
   "metadata": {},
   "outputs": [],
   "source": [
    "del model"
   ]
  },
  {
   "cell_type": "code",
   "execution_count": null,
   "id": "e47e6924",
   "metadata": {},
   "outputs": [],
   "source": []
  }
 ],
 "metadata": {
  "kernelspec": {
   "display_name": "Python 3",
   "language": "python",
   "name": "python3"
  },
  "language_info": {
   "codemirror_mode": {
    "name": "ipython",
    "version": 3
   },
   "file_extension": ".py",
   "mimetype": "text/x-python",
   "name": "python",
   "nbconvert_exporter": "python",
   "pygments_lexer": "ipython3",
   "version": "3.8.8"
  }
 },
 "nbformat": 4,
 "nbformat_minor": 5
}
