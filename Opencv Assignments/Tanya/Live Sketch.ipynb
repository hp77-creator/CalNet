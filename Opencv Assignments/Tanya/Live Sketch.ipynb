{
 "cells": [
  {
   "cell_type": "code",
   "execution_count": 1,
   "id": "b9a4543c",
   "metadata": {},
   "outputs": [],
   "source": [
    "import cv2\n",
    "import numpy as np"
   ]
  },
  {
   "cell_type": "markdown",
   "id": "19e61de0",
   "metadata": {},
   "source": [
    "# Live Sketcher"
   ]
  },
  {
   "cell_type": "code",
   "execution_count": 3,
   "id": "7e924fa5",
   "metadata": {},
   "outputs": [],
   "source": [
    "def sketch(image):\n",
    "    gray_img = cv2.cvtColor(image, cv2.COLOR_BGR2GRAY)\n",
    "    img_blur = cv2.GaussianBlur(gray_img,(3,3),0)\n",
    "    canny = cv2.Canny(img_blur,10,70)\n",
    "    ret, mask = cv2.threshold(canny,30,255,cv2.THRESH_BINARY_INV)\n",
    "    return mask\n",
    "cap = cv2.VideoCapture(0)\n",
    "while True:\n",
    "    ret,frame = cap.read()\n",
    "    cv2.imshow(\"LIVE\",sketch(frame))\n",
    "    if cv2.waitKey(1) == 13: #press enter to close the live sketch window\n",
    "        break\n",
    "cap.release()\n",
    "cv2.destroyAllWindows()"
   ]
  }
 ],
 "metadata": {
  "kernelspec": {
   "display_name": "Python 3",
   "language": "python",
   "name": "python3"
  },
  "language_info": {
   "codemirror_mode": {
    "name": "ipython",
    "version": 3
   },
   "file_extension": ".py",
   "mimetype": "text/x-python",
   "name": "python",
   "nbconvert_exporter": "python",
   "pygments_lexer": "ipython3",
   "version": "3.8.8"
  }
 },
 "nbformat": 4,
 "nbformat_minor": 5
}
