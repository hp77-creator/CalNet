{
 "cells": [
  {
   "cell_type": "code",
   "execution_count": 1,
   "id": "12f305cf",
   "metadata": {},
   "outputs": [],
   "source": [
    "import cv2\n",
    "import numpy as np"
   ]
  },
  {
   "cell_type": "code",
   "execution_count": 2,
   "id": "be974a0b",
   "metadata": {},
   "outputs": [],
   "source": [
    "image = cv2.imread('./pictures/line.jpg')\n",
    "cv2.imshow('lines',image)\n",
    "cv2.waitKey(0)\n",
    "gray = cv2.cvtColor(image,cv2.COLOR_BGR2GRAY)\n",
    "edges = cv2.Canny(gray,100,170,apertureSize = 3)\n",
    "\n",
    "lines = cv2.HoughLines(edges,1,np.pi/180,225)\n",
    "\n",
    "\n",
    "for para in lines:\n",
    "    rho,theta = para[0]\n",
    "    a=np.cos(theta)\n",
    "    b=np.sin(theta)\n",
    "    x0=a*rho\n",
    "    y0=b*rho\n",
    "    x1=int(x0+1000*(-b))\n",
    "    y1=int(y0+1000*(a))\n",
    "    x2=int(x0-1000*(-b))\n",
    "    y2=int(y0-1000*(a))\n",
    "    cv2.line(image,(x1,y1),(x2,y2),(255,0,0),2)\n",
    "    \n",
    "cv2.imshow('hough lines',image)\n",
    "cv2.waitKey(0)\n",
    "cv2.destroyAllWindows()"
   ]
  }
 ],
 "metadata": {
  "kernelspec": {
   "display_name": "Python 3",
   "language": "python",
   "name": "python3"
  },
  "language_info": {
   "codemirror_mode": {
    "name": "ipython",
    "version": 3
   },
   "file_extension": ".py",
   "mimetype": "text/x-python",
   "name": "python",
   "nbconvert_exporter": "python",
   "pygments_lexer": "ipython3",
   "version": "3.8.8"
  }
 },
 "nbformat": 4,
 "nbformat_minor": 5
}
