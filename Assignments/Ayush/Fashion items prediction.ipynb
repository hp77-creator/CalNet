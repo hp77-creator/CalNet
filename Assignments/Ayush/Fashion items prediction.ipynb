{
 "cells": [
  {
   "cell_type": "code",
   "execution_count": 1,
   "id": "9062683c",
   "metadata": {},
   "outputs": [],
   "source": [
    "#basically, in here, we will be adding convolutional layer with ANN model\n",
    "import numpy as np\n",
    "import pandas as pd\n",
    "import matplotlib as mpl\n",
    "import matplotlib.pyplot as plt"
   ]
  },
  {
   "cell_type": "code",
   "execution_count": 2,
   "id": "d2bfb486",
   "metadata": {},
   "outputs": [],
   "source": [
    "#Tensorflow is ML library\n",
    "#keras is Neural network library\n",
    "import tensorflow as tf\n",
    "from tensorflow import keras"
   ]
  },
  {
   "cell_type": "code",
   "execution_count": 3,
   "id": "5e07b7fc",
   "metadata": {},
   "outputs": [],
   "source": [
    "#to import fashion_mnist data\n",
    "(x_train, y_train), (x_test, y_test) = tf.keras.datasets.fashion_mnist.load_data() "
   ]
  },
  {
   "cell_type": "code",
   "execution_count": 4,
   "id": "967ded02",
   "metadata": {},
   "outputs": [],
   "source": [
    "#This list is for our reference whenver we get a class label\n",
    "class_names=[\"T-shirt/top\",\"Trouser\",\"Pullover\",\"Dress\",\"Coat\",\"Sandal\",\"Shirt\",\"Sneaker\",\"Bag\",\"Ankle Boot\"]"
   ]
  },
  {
   "cell_type": "code",
   "execution_count": 5,
   "id": "c0138be9",
   "metadata": {},
   "outputs": [],
   "source": [
    "#for CNN to work, we need 3 layers in an image, thats why we r reshaping it. We have just added the color channel for our image\n",
    "x_train=x_train.reshape((60000,28,28,1))\n",
    "x_test=x_test.reshape((10000,28,28,1))"
   ]
  },
  {
   "cell_type": "code",
   "execution_count": 6,
   "id": "8dae6a49",
   "metadata": {},
   "outputs": [],
   "source": [
    "#Now comes the normarlization of the data, which is the rescaling of our data, \n",
    "#to make them, approx. of same scale\n",
    "\n",
    "#As the color channels are in the range of 0-255(even for grayscale image), hence we will be dividing by 255, so that \n",
    "#all the data are in the range of [0,1]\n",
    "x_train_n=x_train/255\n",
    "x_test_n=x_test/255"
   ]
  },
  {
   "cell_type": "code",
   "execution_count": 7,
   "id": "aa286ea3",
   "metadata": {},
   "outputs": [],
   "source": [
    "x_valid,x_train=x_train[:5000], x_train[5000:]\n",
    "y_valid,y_train=y_train[:5000], y_train[5000:]"
   ]
  },
  {
   "cell_type": "code",
   "execution_count": 8,
   "id": "3a917501",
   "metadata": {},
   "outputs": [],
   "source": [
    "#seed is used to specify that, the random value being produced by the np.random and tf.random\n",
    "#should always be 42, instad of any other random value\n",
    "np.random.seed(42)\n",
    "tf.random.set_seed(42)"
   ]
  },
  {
   "cell_type": "code",
   "execution_count": 35,
   "id": "42792a55",
   "metadata": {},
   "outputs": [],
   "source": [
    "model=keras.models.Sequential()\n",
    "\n",
    "#kernel_size is basically filter size that we will be using\n",
    "model.add(keras.layers.Conv2D(filters=32, kernel_size=(3,3),strides=1,padding=\"valid\",activation=\"relu\",input_shape=(28,28,1)))\n",
    "\n",
    "#flatten layer is 1-D array\n",
    "model.add(keras.layers.MaxPooling2D(2,2))\n",
    "model.add(keras.layers.Flatten())\n",
    "model.add(keras.layers.Dense(300,activation=\"relu\"))\n",
    "model.add(keras.layers.Dense(100,activation=\"relu\"))\n",
    "model.add(keras.layers.Dense(10,activation=\"softmax\"))"
   ]
  },
  {
   "cell_type": "code",
   "execution_count": 36,
   "id": "5389fc08",
   "metadata": {},
   "outputs": [
    {
     "name": "stdout",
     "output_type": "stream",
     "text": [
      "Model: \"sequential_5\"\n",
      "_________________________________________________________________\n",
      "Layer (type)                 Output Shape              Param #   \n",
      "=================================================================\n",
      "conv2d_4 (Conv2D)            (None, 26, 26, 32)        320       \n",
      "_________________________________________________________________\n",
      "max_pooling2d (MaxPooling2D) (None, 13, 13, 32)        0         \n",
      "_________________________________________________________________\n",
      "flatten_1 (Flatten)          (None, 5408)              0         \n",
      "_________________________________________________________________\n",
      "dense_3 (Dense)              (None, 300)               1622700   \n",
      "_________________________________________________________________\n",
      "dense_4 (Dense)              (None, 100)               30100     \n",
      "_________________________________________________________________\n",
      "dense_5 (Dense)              (None, 10)                1010      \n",
      "=================================================================\n",
      "Total params: 1,654,130\n",
      "Trainable params: 1,654,130\n",
      "Non-trainable params: 0\n",
      "_________________________________________________________________\n"
     ]
    }
   ],
   "source": [
    "model.summary()"
   ]
  },
  {
   "cell_type": "code",
   "execution_count": 37,
   "id": "3e419938",
   "metadata": {},
   "outputs": [],
   "source": [
    "#for multi-label classification problem, we use loss function as crossentropy\n",
    "\n",
    "model.compile(loss=\"sparse_categorical_crossentropy\",optimizer=\"sgd\",metrics=[\"accuracy\"])"
   ]
  },
  {
   "cell_type": "code",
   "execution_count": 42,
   "id": "8993acad",
   "metadata": {},
   "outputs": [
    {
     "name": "stdout",
     "output_type": "stream",
     "text": [
      "Epoch 1/20\n",
      "860/860 [==============================] - 20s 23ms/step - loss: 0.4347 - accuracy: 0.8365 - val_loss: 0.4822 - val_accuracy: 0.8160\n",
      "Epoch 2/20\n",
      "860/860 [==============================] - 20s 23ms/step - loss: 0.4241 - accuracy: 0.8402 - val_loss: 0.4744 - val_accuracy: 0.8202\n",
      "Epoch 3/20\n",
      "860/860 [==============================] - 20s 23ms/step - loss: 0.4140 - accuracy: 0.8429 - val_loss: 0.5116 - val_accuracy: 0.8186\n",
      "Epoch 4/20\n",
      "860/860 [==============================] - 20s 23ms/step - loss: 0.4033 - accuracy: 0.8476 - val_loss: 0.4518 - val_accuracy: 0.8392\n",
      "Epoch 5/20\n",
      "860/860 [==============================] - 20s 24ms/step - loss: 0.3988 - accuracy: 0.8488 - val_loss: 0.4370 - val_accuracy: 0.8380\n",
      "Epoch 6/20\n",
      "860/860 [==============================] - 21s 24ms/step - loss: 0.3913 - accuracy: 0.8516 - val_loss: 0.4275 - val_accuracy: 0.8476\n",
      "Epoch 7/20\n",
      "860/860 [==============================] - 20s 24ms/step - loss: 0.3822 - accuracy: 0.8537 - val_loss: 0.4365 - val_accuracy: 0.8378\n",
      "Epoch 8/20\n",
      "860/860 [==============================] - 20s 23ms/step - loss: 0.3773 - accuracy: 0.8561 - val_loss: 0.4622 - val_accuracy: 0.8346\n",
      "Epoch 9/20\n",
      "860/860 [==============================] - 20s 24ms/step - loss: 0.3699 - accuracy: 0.8601 - val_loss: 0.4357 - val_accuracy: 0.8382\n",
      "Epoch 10/20\n",
      "860/860 [==============================] - 21s 24ms/step - loss: 0.3636 - accuracy: 0.8626 - val_loss: 0.4399 - val_accuracy: 0.8376\n",
      "Epoch 11/20\n",
      "860/860 [==============================] - 20s 24ms/step - loss: 0.3568 - accuracy: 0.8644 - val_loss: 0.4414 - val_accuracy: 0.8434\n",
      "Epoch 12/20\n",
      "860/860 [==============================] - 20s 23ms/step - loss: 0.3516 - accuracy: 0.8672 - val_loss: 0.4371 - val_accuracy: 0.8418\n",
      "Epoch 13/20\n",
      "860/860 [==============================] - 20s 24ms/step - loss: 0.3467 - accuracy: 0.8694 - val_loss: 0.4506 - val_accuracy: 0.8316\n",
      "Epoch 14/20\n",
      "860/860 [==============================] - 20s 24ms/step - loss: 0.3422 - accuracy: 0.8705 - val_loss: 0.4407 - val_accuracy: 0.8452\n",
      "Epoch 15/20\n",
      "860/860 [==============================] - 21s 24ms/step - loss: 0.3368 - accuracy: 0.8725 - val_loss: 0.4589 - val_accuracy: 0.8332\n",
      "Epoch 16/20\n",
      "860/860 [==============================] - 20s 24ms/step - loss: 0.3335 - accuracy: 0.8743 - val_loss: 0.4385 - val_accuracy: 0.8394\n",
      "Epoch 17/20\n",
      "860/860 [==============================] - 21s 24ms/step - loss: 0.3263 - accuracy: 0.8757 - val_loss: 0.4537 - val_accuracy: 0.8410\n",
      "Epoch 18/20\n",
      "860/860 [==============================] - 20s 24ms/step - loss: 0.3257 - accuracy: 0.8754 - val_loss: 0.5399 - val_accuracy: 0.8286\n",
      "Epoch 19/20\n",
      "860/860 [==============================] - 20s 24ms/step - loss: 0.3185 - accuracy: 0.8788 - val_loss: 0.4416 - val_accuracy: 0.8420\n",
      "Epoch 20/20\n",
      "860/860 [==============================] - 20s 24ms/step - loss: 0.3153 - accuracy: 0.8797 - val_loss: 0.4451 - val_accuracy: 0.8388\n"
     ]
    }
   ],
   "source": [
    "#now comes training the model\n",
    "model_history=model.fit(x_train,y_train,epochs=20,batch_size=64,validation_data=(x_valid,y_valid))"
   ]
  },
  {
   "cell_type": "code",
   "execution_count": 43,
   "id": "a017509f",
   "metadata": {},
   "outputs": [
    {
     "data": {
      "image/png": "[encoded data removed]",
      "text/plain": [
       "<Figure size 576x360 with 1 Axes>"
      ]
     },
     "metadata": {
      "needs_background": "light"
     },
     "output_type": "display_data"
    }
   ],
   "source": [
    "#to view how these loss, accuracy, validation loss and validation accuracy are doing\n",
    "import pandas as pd\n",
    "pd.DataFrame(model_history.history).plot(figsize=(8,5))\n",
    "plt.grid(True)\n",
    "plt.gca().set_ylim(0,2)\n",
    "plt.show()"
   ]
  },
  {
   "cell_type": "code",
   "execution_count": 44,
   "id": "0010086d",
   "metadata": {},
   "outputs": [
    {
     "name": "stdout",
     "output_type": "stream",
     "text": [
      "313/313 [==============================] - 2s 6ms/step - loss: 1.3672 - accuracy: 0.6040\n"
     ]
    }
   ],
   "source": [
    "#to see how our model is performing on test data\n",
    "ev=model.evaluate(x_test_n,y_test)"
   ]
  },
  {
   "cell_type": "code",
   "execution_count": 45,
   "id": "d69d26a4",
   "metadata": {},
   "outputs": [
    {
     "data": {
      "text/plain": [
       "[1.3672428131103516, 0.6039999723434448]"
      ]
     },
     "execution_count": 45,
     "metadata": {},
     "output_type": "execute_result"
    }
   ],
   "source": [
    "ev"
   ]
  },
  {
   "cell_type": "code",
   "execution_count": 46,
   "id": "5273fe6f",
   "metadata": {},
   "outputs": [],
   "source": [
    "x_new=x_test[:3]"
   ]
  },
  {
   "cell_type": "code",
   "execution_count": 47,
   "id": "1e711eed",
   "metadata": {},
   "outputs": [
    {
     "ename": "AttributeError",
     "evalue": "'Sequential' object has no attribute 'predict_classes'",
     "output_type": "error",
     "traceback": [
      "\u001b[1;31m---------------------------------------------------------------------------\u001b[0m",
      "\u001b[1;31mAttributeError\u001b[0m                            Traceback (most recent call last)",
      "\u001b[1;32m<ipython-input-47-1c35a93acfac>\u001b[0m in \u001b[0;36m<module>\u001b[1;34m\u001b[0m\n\u001b[1;32m----> 1\u001b[1;33m \u001b[0my_pred\u001b[0m\u001b[1;33m=\u001b[0m\u001b[0mmodel\u001b[0m\u001b[1;33m.\u001b[0m\u001b[0mpredict_classes\u001b[0m\u001b[1;33m(\u001b[0m\u001b[0mx_new\u001b[0m\u001b[1;33m)\u001b[0m\u001b[1;33m\u001b[0m\u001b[1;33m\u001b[0m\u001b[0m\n\u001b[0m\u001b[0;32m      2\u001b[0m \u001b[0my_pred\u001b[0m\u001b[1;33m\u001b[0m\u001b[1;33m\u001b[0m\u001b[0m\n",
      "\u001b[1;31mAttributeError\u001b[0m: 'Sequential' object has no attribute 'predict_classes'"
     ]
    }
   ],
   "source": [
    "y_pred=model.predict_classes(x_new)\n",
    "y_pred"
   ]
  },
  {
   "cell_type": "code",
   "execution_count": 48,
   "id": "b1a78b4a",
   "metadata": {},
   "outputs": [
    {
     "data": {
      "text/plain": [
       "array([9, 2, 1], dtype=uint8)"
      ]
     },
     "execution_count": 48,
     "metadata": {},
     "output_type": "execute_result"
    }
   ],
   "source": [
    "y_test[:3]"
   ]
  },
  {
   "cell_type": "code",
   "execution_count": 49,
   "id": "fe8f7d18",
   "metadata": {},
   "outputs": [
    {
     "name": "stdout",
     "output_type": "stream",
     "text": [
      "AxesImage(54,36;334.8x217.44)\n"
     ]
    },
    {
     "data": {
      "image/png": "[encoded data removed]",
      "text/plain": [
       "<Figure size 432x288 with 1 Axes>"
      ]
     },
     "metadata": {
      "needs_background": "light"
     },
     "output_type": "display_data"
    }
   ],
   "source": [
    "#before plotting, we convert the image to 2D form again\n",
    "print(plt.imshow(x_test[0].reshape(28,28)))"
   ]
  },
  {
   "cell_type": "code",
   "execution_count": 51,
   "id": "0b7ba398",
   "metadata": {},
   "outputs": [],
   "source": [
    "keras.backend.clear_session()"
   ]
  },
  {
   "cell_type": "code",
   "execution_count": 52,
   "id": "2ced6a7a",
   "metadata": {},
   "outputs": [],
   "source": [
    "del model"
   ]
  },
  {
   "cell_type": "code",
   "execution_count": null,
   "id": "0754b40d",
   "metadata": {},
   "outputs": [],
   "source": []
  }
 ],
 "metadata": {
  "kernelspec": {
   "display_name": "Python 3",
   "language": "python",
   "name": "python3"
  },
  "language_info": {
   "codemirror_mode": {
    "name": "ipython",
    "version": 3
   },
   "file_extension": ".py",
   "mimetype": "text/x-python",
   "name": "python",
   "nbconvert_exporter": "python",
   "pygments_lexer": "ipython3",
   "version": "3.6.13"
  }
 },
 "nbformat": 4,
 "nbformat_minor": 5
}
