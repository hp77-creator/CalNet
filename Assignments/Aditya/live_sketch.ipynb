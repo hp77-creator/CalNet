{
  "nbformat": 4,
  "nbformat_minor": 0,
  "metadata": {
    "colab": {
      "name": "Untitled10.ipynb",
      "provenance": []
    },
    "kernelspec": {
      "name": "python3",
      "display_name": "Python 3"
    },
    "language_info": {
      "name": "python"
    }
  },
  "cells": [
    {
      "cell_type": "code",
      "metadata": {
        "id": "H2UJfXYRiXiS"
      },
      "source": [
        " import cv2\n",
        "import numpy as np\n",
        "\n",
        "def sketch(image):\n",
        "    #converting_image_to_grayscale\n",
        "    img_gray=cv2.cvtColor(image,cv2.COLOR_BGR2GRAY)\n",
        "    #blurring_image_to_remove_noise\n",
        "    img_blur=cv2.GaussianBlur(img_gray,(3,3),0)\n",
        "    #extracting_edges\n",
        "    edges=cv2.Canny(img_blur,10,80)\n",
        "    #applying_threshold_inverse\n",
        "    ret,mask=cv2.threshold(edges,50,255,cv2.THRESH_BINARY_INV)\n",
        "    return mask\n",
        "\n",
        "# capturing_video_from_webcam\n",
        "cap=cv2.VideoCapture(0)\n",
        "# constant_image_capture_from_video\n",
        "while True:\n",
        "    ret,frame=cap.read()\n",
        "    cv2.imshow('Live_Sketch',sketch(frame))\n",
        "    # Key13==ENTER_KEY\n",
        "    if cv2.waitKey(1)==13:\n",
        "        break\n",
        "# releasing_webcam\n",
        "cap.release()\n",
        "# destroying_window\n",
        "cv2.destroyAllWindows()\n"
      ],
      "execution_count": null,
      "outputs": []
    }
  ]
}