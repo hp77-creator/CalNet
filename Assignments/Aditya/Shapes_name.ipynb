{
  "nbformat": 4,
  "nbformat_minor": 0,
  "metadata": {
    "colab": {
      "name": "Untitled8.ipynb",
      "provenance": []
    },
    "kernelspec": {
      "name": "python3",
      "display_name": "Python 3"
    },
    "language_info": {
      "name": "python"
    }
  },
  "cells": [
    {
      "cell_type": "markdown",
      "metadata": {
        "id": "A8jTWwGVdW-s"
      },
      "source": [
        "IDENTIFY SHAPES"
      ]
    },
    {
      "cell_type": "code",
      "metadata": {
        "colab": {
          "base_uri": "https://localhost:8080/",
          "height": 131
        },
        "id": "sO1uyE6ydjGw",
        "outputId": "55061aea-85a2-4e7d-a70e-87843dee81d4"
      },
      "source": [
        "import numpy as np\n",
        "import cv2\n",
        "\n",
        "#load and grayscale image\n",
        "image = cv2.cvtColor(image, cv2.COLOR_BGR2GRAY)\n",
        "\n",
        "cv2.imshow('identifying shapes', image)\n",
        "cv2.waitkey(0)\n",
        "\n",
        "ret, thresh = cv2.findContours(thresh.copy(), cv2.RETR_LIST, cv2.CHAIN_APPROX_NONE)\n",
        "\n",
        "for cnt in contours:\n",
        "  \n",
        "  #get approximate contours\n",
        "  approx = cv2.approxPolyDP(cnt, 0.01*cv2.aecLength(cnt, True), True)\n",
        "\n",
        "  if len(approx) == 3:\n",
        "    shape_name = \"Triangle\"\n",
        "    cv2.drawContours(image, [cnt], 0, (0, 255, 0), -1)\n",
        "\n",
        "    #placing text at centre\n",
        "    M = cv2.moments(cnt)\n",
        "    cx = int(M['m10'] / M['m00'])\n",
        "    cy = int(M['m01'] / M['m00'])\n",
        "    cv2.putText(image, shape_name, (cx-50, cy), cv2.FONT_HERSHEY_SIMPLEX, 1, (0,0,0), 1)\n",
        "\n",
        " elif len(contours) == 4 :    \n",
        "     x,y, w, h = cv2.boundingRect(cnt)\n",
        "     M = cv2.moments(cnt)\n",
        "     cx = int(M['m10'] / M['m00'])\n",
        "     cy = int(M['m01'] / M['m00'])\n",
        "\n",
        "     #check if 4 sided is polygon or rectangle\n",
        "   #cv2.boundingRect returns top left width height\n",
        "   if abs(w-h) <= 3:\n",
        "     shape_name = \"square\"\n",
        "     cv2.drawContours(image, [cnt], 0, (0, 255, 0), -1)\n",
        "\n",
        "     #placing text at centre\n",
        "     M = cv2.moments(cnt)\n",
        "     cx = int(M['m10'] / M['m00'])\n",
        "     cy = int(M['m01'] / M['m00'])\n",
        "     cv2.putText(image, shape_name, (cx-50, cy), cv2.FONT_HERSHEY_SIMPLEX, 1, (0,0,0), 1)\n",
        "    \n",
        "   else: \n",
        "    shape_name = \"Rectangle\"\n",
        "    cv2.drawContours(image, [cnt], 0, (0, 255, 0), -1)\n",
        "\n",
        "    #placing text at centre\n",
        "    M = cv2.moments(cnt)\n",
        "    cx = int(M['m10'] / M['m00'])\n",
        "    cy = int(M['m01'] / M['m00'])\n",
        "    cv2.putText(image, shape_name, (cx-50, cy), cv2.FONT_HERSHEY_SIMPLE\n",
        "\n",
        " elif len(contours) == 10:\n",
        "   shape_name = \"star\"\n",
        "   cv2.drawContours(image, [cnt], 0, (0, 255, 0), -1)\n",
        "\n",
        "   #placing text at centre\n",
        "   M = cv2.moments(cnt)\n",
        "   cx = int(M['m10'] / M['m00'])\n",
        "   cy = int(M['m01'] / M['m00'])\n",
        "   cv2.putText(image, shape_name, (cx-50, cy), cv2.FONT_HERSHEY_SIMPLE\n",
        "\n",
        " elif len(contours) >= 15:\n",
        "   shape_name = \"Circle\"\n",
        "   cv2.drawContours(image, [cnt], 0, (0, 255, 0), -1)\n",
        "\n",
        "   #placing text at centre\n",
        "   M = cv2.moments(cnt)\n",
        "   cx = int(M['m10'] / M['m00'])\n",
        "   cy = int(M['m01'] / M['m00'])\n",
        "   cv2.putText(image, shape_name, (cx-50, cy), cv2.FONT_HERSHEY_SIMPLE\n",
        "\n",
        " cv2.imshow('identifying shapes', image)\n",
        " cv2.waitkey()\n",
        "\n",
        "cv2.waitkkey(0)\n",
        "cv2.clearAllWindows "
      ],
      "execution_count": 4,
      "outputs": [
        {
          "output_type": "error",
          "ename": "IndentationError",
          "evalue": "ignored",
          "traceback": [
            "\u001b[0;36m  File \u001b[0;32m\"<ipython-input-4-ef9857cf5a63>\"\u001b[0;36m, line \u001b[0;32m27\u001b[0m\n\u001b[0;31m    elif len(contours) == 4 :\u001b[0m\n\u001b[0m                                 ^\u001b[0m\n\u001b[0;31mIndentationError\u001b[0m\u001b[0;31m:\u001b[0m unindent does not match any outer indentation level\n"
          ]
        }
      ]
    }
  ]
}