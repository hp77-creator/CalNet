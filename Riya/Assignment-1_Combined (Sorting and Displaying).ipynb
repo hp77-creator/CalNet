{
 "cells": [
  {
   "cell_type": "markdown",
   "id": "d965ff6d",
   "metadata": {},
   "source": [
    "### Question:\n",
    "Write the program using OpenCV in Python that:  \n",
    "    1) Detect the shapes  \n",
    "    2) Draw the contours around them   \n",
    "    3) Write name of the shapes and number of sides( at the centre of the shapes)  \n",
    "    4) Sort them according to their number of edges  "
   ]
  },
  {
   "cell_type": "code",
   "execution_count": 1,
   "id": "35d82bba",
   "metadata": {},
   "outputs": [],
   "source": [
    "import cv2\n",
    "import numpy as np"
   ]
  },
  {
   "cell_type": "markdown",
   "id": "40d69ea4",
   "metadata": {},
   "source": [
    "###### Converting image to GrayScale "
   ]
  },
  {
   "cell_type": "code",
   "execution_count": 2,
   "id": "2d63a188",
   "metadata": {},
   "outputs": [],
   "source": [
    "img = cv2.imread('./Shapes_Assn.1.png')\n",
    "gray = cv2.cvtColor(img, cv2.COLOR_BGR2GRAY)\n",
    "edge = cv2.Canny(gray, 550, 100)\n",
    "cv2.imshow('Shapes', img)\n",
    "cv2.imshow('Shapes Edge', edge)\n",
    "cv2.waitKey()\n",
    "\n",
    "cv2.destroyAllWindows()"
   ]
  },
  {
   "cell_type": "markdown",
   "id": "eb565ae5",
   "metadata": {},
   "source": [
    "###### Finding Contours"
   ]
  },
  {
   "cell_type": "code",
   "execution_count": 3,
   "id": "5b80c353",
   "metadata": {},
   "outputs": [
    {
     "name": "stdout",
     "output_type": "stream",
     "text": [
      "Number of contours found =  7\n"
     ]
    }
   ],
   "source": [
    "contours, hierarchy = cv2.findContours(edge.copy(), cv2.RETR_EXTERNAL, cv2.CHAIN_APPROX_SIMPLE)\n",
    "print (\"Number of contours found = \", len(contours))"
   ]
  },
  {
   "cell_type": "markdown",
   "id": "a836c60a",
   "metadata": {},
   "source": [
    "###### Displaying Contours on black screen"
   ]
  },
  {
   "cell_type": "code",
   "execution_count": 4,
   "id": "89a97824",
   "metadata": {},
   "outputs": [],
   "source": [
    "black_sheet = np.zeros((img.shape[0], img.shape[1], 3))\n",
    "\n",
    "cv2.drawContours(black_sheet, contours, -1, (20,10,0), 1)\n",
    "cv2.imshow('Contours Image', black_sheet)\n",
    "cv2.waitKey()\n",
    "\n",
    "cv2.destroyAllWindows()"
   ]
  },
  {
   "cell_type": "markdown",
   "id": "6f2d2e42",
   "metadata": {},
   "source": [
    "###### Finding Sides of shapes (contours)"
   ]
  },
  {
   "cell_type": "code",
   "execution_count": 5,
   "id": "74d0f148",
   "metadata": {},
   "outputs": [
    {
     "name": "stdout",
     "output_type": "stream",
     "text": [
      "[3, 4, 4, 5, 6, 10, 15]\n"
     ]
    }
   ],
   "source": [
    "i=0\n",
    "sides= [None]*len(contours)\n",
    "for cnt in contours:\n",
    "\n",
    "    approx = cv2.approxPolyDP(cnt, 0.01*cv2.arcLength(cnt,True),True)\n",
    "    sides[i]=len(approx)\n",
    "    i+=1\n",
    "sides.sort()\n",
    "print(sides)"
   ]
  },
  {
   "cell_type": "markdown",
   "id": "246f3cb8",
   "metadata": {},
   "source": [
    "###### Sorting Contours by sides"
   ]
  },
  {
   "cell_type": "code",
   "execution_count": 6,
   "id": "72b1ef86",
   "metadata": {},
   "outputs": [
    {
     "name": "stdout",
     "output_type": "stream",
     "text": [
      "3\n",
      "4\n",
      "4\n",
      "5\n",
      "6\n",
      "10\n",
      "15\n"
     ]
    }
   ],
   "source": [
    "img = cv2.imread('./Shapes_Assn.1.png')\n",
    "cv2.imshow(\"Sorting Shapes\", img)\n",
    "cv2.waitKey()\n",
    "\n",
    "def Sides(approx):\n",
    "    if len(approx) == 3:\n",
    "        cv2.drawContours(img,[cnt],0,(200,255,0),-1)\n",
    "        M = cv2.moments(cnt)\n",
    "        cx = int(M['m10'] / M['m00'])\n",
    "        cy = int(M['m01'] / M['m00'])\n",
    "        cv2.putText(img, \"Triangle\", (cx-40, cy), cv2.FONT_HERSHEY_SIMPLEX, 0.75, (0, 0, 0), 1)\n",
    "        cv2.putText(img, \"Sides: 3\", (cx-32, cy+20), cv2.FONT_HERSHEY_SIMPLEX, 0.5, (0, 0, 0), 1)\n",
    "        \n",
    "    elif len(approx) == 4:\n",
    "        x,y,w,h = cv2.boundingRect(cnt)\n",
    "        M = cv2.moments(cnt)\n",
    "        cx = int(M['m10'] / M['m00'])\n",
    "        cy = int(M['m01'] / M['m00'])\n",
    "        \n",
    "        if abs(w-h) <= 3:\n",
    "            cv2.drawContours(img, [cnt], 0, (0, 125 ,255), -1)\n",
    "            cv2.putText(img, \"Square\", (cx-40, cy), cv2.FONT_HERSHEY_SIMPLEX, 0.75, (0, 0, 0), 1)\n",
    "            cv2.putText(img, \"Sides: 4\", (cx-30, cy+20), cv2.FONT_HERSHEY_SIMPLEX, 0.5, (0, 0, 0), 1)\n",
    "        else:\n",
    "            cv2.drawContours(img, [cnt], 0, (0, 0, 255), -1)\n",
    "            M = cv2.moments(cnt)\n",
    "            cx = int(M['m10'] / M['m00'])\n",
    "            cy = int(M['m01'] / M['m00'])\n",
    "            cv2.putText(img, \"Rectangle\", (cx-50, cy), cv2.FONT_HERSHEY_SIMPLEX, 0.75, (0, 0, 0), 1)\n",
    "            cv2.putText(img, \"Sides: 4\", (cx-30, cy+20), cv2.FONT_HERSHEY_SIMPLEX, 0.5, (0, 0, 0), 1)\n",
    "    \n",
    "    elif len(approx) == 5:\n",
    "        cv2.drawContours(img, [cnt], 0, (50, 10, 0), -1)\n",
    "        M = cv2.moments(cnt)\n",
    "        cx = int(M['m10'] / M['m00'])\n",
    "        cy = int(M['m01'] / M['m00'])\n",
    "        cv2.putText(img, \"Pentagon\", (cx-50, cy), cv2.FONT_HERSHEY_SIMPLEX, 0.75, (200, 200, 200), 1)\n",
    "        cv2.putText(img, \"Sides: 5\", (cx-30, cy+20), cv2.FONT_HERSHEY_SIMPLEX, 0.5, (200, 200, 200), 1)\n",
    "        \n",
    "    \n",
    "    elif len(approx) == 6:\n",
    "        cv2.drawContours(img, [cnt], 0, (0, 200, 0), -1)\n",
    "        M = cv2.moments(cnt)\n",
    "        cx = int(M['m10'] / M['m00'])\n",
    "        cy = int(M['m01'] / M['m00'])\n",
    "        cv2.putText(img, \"Hexagon\", (cx-45, cy), cv2.FONT_HERSHEY_SIMPLEX, 0.75, (0, 0, 0), 1)\n",
    "        cv2.putText(img, \"Sides: 6\", (cx-35, cy+20), cv2.FONT_HERSHEY_SIMPLEX, 0.5, (0, 0, 0), 1)\n",
    "        \n",
    "    elif len(approx) == 10:\n",
    "        cv2.drawContours(img, [cnt], 0, (2, 255, 0), -1)\n",
    "        M = cv2.moments(cnt)\n",
    "        cx = int(M['m10'] / M['m00'])\n",
    "        cy = int(M['m01'] / M['m00'])\n",
    "        cv2.putText(img, \"Star\", (cx-18, cy), cv2.FONT_HERSHEY_SIMPLEX, 0.75, (0, 0, 0), 1)\n",
    "        cv2.putText(img, \"Sides: 10\", (cx-35, cy+20), cv2.FONT_HERSHEY_SIMPLEX, 0.5, (0, 0, 0), 1)\n",
    "        \n",
    "    elif len(approx) >= 15:\n",
    "        cv2.drawContours(img, [cnt], 0, (0, 255, 255), -1)\n",
    "        M = cv2.moments(cnt)\n",
    "        cx = int(M['m10'] / M['m00'])\n",
    "        cy = int(M['m01'] / M['m00'])\n",
    "        cv2.putText(img, \"Circle\", (cx-35, cy), cv2.FONT_HERSHEY_SIMPLEX, 0.75, (0, 0, 0), 1)\n",
    "        cv2.putText(img, \"Sides: Infinite\", (cx-45, cy+20), cv2.FONT_HERSHEY_SIMPLEX, 0.5, (0, 0, 0), 1)\n",
    "\n",
    "    cv2.imshow('Sorting Shapes',img)\n",
    "    cv2.waitKey()\n",
    "\n",
    "\n",
    "for count in range(len(contours)):\n",
    "    for cnt in contours:\n",
    "        approx = cv2.approxPolyDP(cnt, 0.01*cv2.arcLength(cnt,True),True)\n",
    "        if len(approx) == sides[count]:\n",
    "            \n",
    "            if sides[count] == sides[count-1]:\n",
    "                count+=2\n",
    "                break\n",
    "            cv2.drawContours(img, [cnt], -1, (200,150,0), 5)\n",
    "            cv2.imshow('Sorting Shapes', img)\n",
    "            cv2.waitKey()\n",
    "            print(len(approx))\n",
    "            Sides(approx)\n",
    "              \n",
    "cv2.destroyAllWindows()"
   ]
  }
 ],
 "metadata": {
  "kernelspec": {
   "display_name": "Python 3",
   "language": "python",
   "name": "python3"
  },
  "language_info": {
   "codemirror_mode": {
    "name": "ipython",
    "version": 3
   },
   "file_extension": ".py",
   "mimetype": "text/x-python",
   "name": "python",
   "nbconvert_exporter": "python",
   "pygments_lexer": "ipython3",
   "version": "3.8.8"
  }
 },
 "nbformat": 4,
 "nbformat_minor": 5
}
